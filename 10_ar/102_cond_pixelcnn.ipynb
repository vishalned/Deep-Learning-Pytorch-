{
 "cells": [
  {
   "cell_type": "markdown",
   "metadata": {
    "deletable": false,
    "editable": false,
    "nbgrader": {
     "cell_type": "markdown",
     "checksum": "13356615119cf3a844474011b8fb40ae",
     "grade": false,
     "grade_id": "cell-3c98ddabe9e64f07",
     "locked": true,
     "schema_version": 3,
     "solution": false,
     "task": false
    }
   },
   "source": [
    "<div class=\"alert alert-block alert-info\">\n",
    "<b>Number of points for this notebook:</b> 1\n",
    "<br>\n",
    "<b>Deadline:</b> May 20, 2020 (Wednesday) 23:00\n",
    "</div>\n",
    "\n",
    "\n",
    "# Exercise 10.2. Conditional generation with PixelCNN\n",
    "\n",
    "The goal of this exercise is to do conditional generation with the PixelCNN model.\n",
    "The basic idea of the conditioning is described in Section 2.3 of [this paper](https://arxiv.org/pdf/1606.05328.pdf). However, we will use a much simpler model."
   ]
  },
  {
   "cell_type": "code",
   "execution_count": 15,
   "metadata": {},
   "outputs": [],
   "source": [
    "skip_training = True  # Set this flag to True before validation and submission"
   ]
  },
  {
   "cell_type": "code",
   "execution_count": 16,
   "metadata": {
    "deletable": false,
    "editable": false,
    "nbgrader": {
     "cell_type": "code",
     "checksum": "dc0197afbbd904c2b006f24732e6e8a3",
     "grade": true,
     "grade_id": "cell-a54f4cac48b8daec",
     "locked": true,
     "points": 0,
     "schema_version": 3,
     "solution": false,
     "task": false
    }
   },
   "outputs": [],
   "source": [
    "# During evaluation, this cell sets skip_training to True\n",
    "# skip_training = True"
   ]
  },
  {
   "cell_type": "code",
   "execution_count": 17,
   "metadata": {},
   "outputs": [],
   "source": [
    "import time\n",
    "\n",
    "import numpy as np\n",
    "import matplotlib.pyplot as plt\n",
    "\n",
    "import torch\n",
    "import torchvision\n",
    "import torchvision.transforms as transforms\n",
    "import torch.nn as nn\n",
    "import torch.nn.functional as F\n",
    "import torch.optim as optim\n",
    "\n",
    "import tools\n",
    "import tests"
   ]
  },
  {
   "cell_type": "code",
   "execution_count": 18,
   "metadata": {},
   "outputs": [
    {
     "name": "stdout",
     "output_type": "stream",
     "text": [
      "The data directory is /coursedata\n"
     ]
    }
   ],
   "source": [
    "# When running on your own computer, you can specify the data directory by:\n",
    "# data_dir = tools.select_data_dir('/your/local/data/directory')\n",
    "data_dir = tools.select_data_dir()"
   ]
  },
  {
   "cell_type": "code",
   "execution_count": 19,
   "metadata": {},
   "outputs": [],
   "source": [
    "# Select the device for training (use GPU if you have one)\n",
    "#device = torch.device('cuda:0')\n",
    "device = torch.device('cpu')"
   ]
  },
  {
   "cell_type": "code",
   "execution_count": 20,
   "metadata": {
    "deletable": false,
    "editable": false,
    "nbgrader": {
     "cell_type": "code",
     "checksum": "b79b793e3771be4f29f1e582f8d5dfc6",
     "grade": false,
     "grade_id": "cell-6eeffe49baead231",
     "locked": true,
     "schema_version": 3,
     "solution": false,
     "task": false
    }
   },
   "outputs": [],
   "source": [
    "if skip_training:\n",
    "    # The models are always evaluated on CPU\n",
    "    device = torch.device('cpu')"
   ]
  },
  {
   "cell_type": "markdown",
   "metadata": {
    "deletable": false,
    "editable": false,
    "nbgrader": {
     "cell_type": "markdown",
     "checksum": "767ca562df4a44a61a6bd37995d6c9c2",
     "grade": false,
     "grade_id": "cell-94c5742c02305758",
     "locked": true,
     "schema_version": 3,
     "solution": false,
     "task": false
    }
   },
   "source": [
    "# Data\n",
    "\n",
    "In this exercise, we use standard MNIST data."
   ]
  },
  {
   "cell_type": "code",
   "execution_count": 21,
   "metadata": {
    "deletable": false,
    "editable": false,
    "nbgrader": {
     "cell_type": "code",
     "checksum": "c68960f7f54eb8281e78b61a10c0e5d3",
     "grade": false,
     "grade_id": "cell-532a4922e89ce5f2",
     "locked": true,
     "schema_version": 3,
     "solution": false,
     "task": false
    }
   },
   "outputs": [],
   "source": [
    "transform = transforms.Compose([\n",
    "    transforms.ToTensor(),\n",
    "])\n",
    "\n",
    "trainset = torchvision.datasets.MNIST(root=data_dir, train=True, download=True, transform=transform)\n",
    "trainloader = torch.utils.data.DataLoader(trainset, batch_size=32, shuffle=True)"
   ]
  },
  {
   "cell_type": "code",
   "execution_count": 22,
   "metadata": {
    "deletable": false,
    "editable": false,
    "nbgrader": {
     "cell_type": "code",
     "checksum": "1ab45f5c7bcbc4297f6e570397e77c09",
     "grade": false,
     "grade_id": "cell-72f0a284a46f0d97",
     "locked": true,
     "schema_version": 3,
     "solution": false,
     "task": false
    }
   },
   "outputs": [
    {
     "data": {
      "image/png": "[encoded data removed]",
      "text/plain": [
       "<Figure size 576x576 with 1 Axes>"
      ]
     },
     "metadata": {},
     "output_type": "display_data"
    }
   ],
   "source": [
    "images, labels = iter(trainloader).next()\n",
    "tools.plot_images(images[:8], ncol=4, cmap=plt.cm.Greys, clim=[0,1])"
   ]
  },
  {
   "cell_type": "markdown",
   "metadata": {
    "deletable": false,
    "editable": false,
    "nbgrader": {
     "cell_type": "markdown",
     "checksum": "ff46bf85ab2c828cdc5995b4efe62dd2",
     "grade": false,
     "grade_id": "cell-a4de8a0f0588b4df",
     "locked": true,
     "schema_version": 3,
     "solution": false,
     "task": false
    }
   },
   "source": [
    "# Masked convolutional layer\n",
    "\n",
    "In the cell below, copy the implementation of the `MaskedConv2d` from the PixelCNN notebook."
   ]
  },
  {
   "cell_type": "code",
   "execution_count": 23,
   "metadata": {
    "deletable": false,
    "nbgrader": {
     "cell_type": "code",
     "checksum": "ead7030b2311293a95080875cbe940b0",
     "grade": false,
     "grade_id": "MaskedConv2d",
     "locked": false,
     "schema_version": 3,
     "solution": true,
     "task": false
    }
   },
   "outputs": [],
   "source": [
    "class MaskedConv2d(nn.Module):\n",
    "    def __init__(self, in_channels, out_channels, kernel_size, blind_center=False):\n",
    "        \"\"\"\n",
    "        Args:\n",
    "          in_channels (int): Number of input channels.\n",
    "          out_channels (int): Number of output channels.\n",
    "          kernel_size (int): Kernel size similar to nn.Conv2d layer.\n",
    "          blind_center (bool): If True, the kernel has zero in the center.\n",
    "        \"\"\"\n",
    "        # YOUR CODE HERE\n",
    "        super(MaskedConv2d, self).__init__()\n",
    "        mask = np.zeros([out_channels, in_channels, kernel_size, kernel_size], dtype=np.float32)\n",
    "        h, w = kernel_size // 2, kernel_size // 2\n",
    "        if(blind_center == True):\n",
    "            mask[:, :, :h,:] = 1\n",
    "            mask[:, :,h, :w ] = 1\n",
    "        else:\n",
    "            mask[:, :, :h,:] = 1\n",
    "            mask[:, :,h, :w + 1] = 1\n",
    "            \n",
    "        mask = torch.from_numpy(mask).float().to(device)\n",
    "        self.register_buffer('mask', mask)\n",
    "        padding = (kernel_size - 1) // 2\n",
    "        self.conv = nn.Conv2d(in_channels, out_channels, kernel_size,  bias = False, padding = padding)\n",
    "#         raise NotImplementedError()\n",
    "\n",
    "    def forward(self, x):\n",
    "        \"\"\"\n",
    "        Args:\n",
    "          x of shape (batch_size, in_channels, height, width): Input images.\n",
    "        \n",
    "        Returns:\n",
    "          y of shape (batch_size, out_channels, height, width): Output images.\n",
    "        \"\"\"\n",
    "        # YOUR CODE HERE\n",
    "        self.conv.weight.data *= self.mask\n",
    "        x = self.conv(x)\n",
    "        return x"
   ]
  },
  {
   "cell_type": "markdown",
   "metadata": {
    "deletable": false,
    "editable": false,
    "nbgrader": {
     "cell_type": "markdown",
     "checksum": "15abbe49f5f1e652b9f3d8ac4b3a5627",
     "grade": false,
     "grade_id": "cell-aaa542146c8ce33d",
     "locked": true,
     "schema_version": 3,
     "solution": false,
     "task": false
    }
   },
   "source": [
    "# Conditional PixelCNN\n",
    "\n",
    "Conditional PixelCNN models allows to generate images of a desired class. This can be achieved by providing the desired class label to every layer of the PixelCNN model. In this notebook, we do it in the following way: the input of each masked convolutional layer is:\n",
    "$$\\mathbf{x} + \\mathbf{W} \\mathbf{h}$$\n",
    "where\n",
    "  * $\\mathbf{x}$ is the output of the previous layer\n",
    "  * $\\mathbf{h}$ is a 10-dimensional one-hot coded vector of the desired class\n",
    "  * $\\mathbf{W}$ is $c \\times 10$ matrix (parameter of a fully-connected layer), where $c$ is the number of input channels in the masked convolutional layer.\n",
    "\n",
    "You need to implement the conditional PixelCNN model in the cell below.\n",
    "\n",
    "Recommended architecture:\n",
    "* Use an architecture similar to the PixelCNN architecture in the first notebook."
   ]
  },
  {
   "cell_type": "code",
   "execution_count": 24,
   "metadata": {
    "deletable": false,
    "nbgrader": {
     "cell_type": "code",
     "checksum": "2fb7c7fdfdcf82854fc777d79ff1c698",
     "grade": false,
     "grade_id": "conditional_pixel_cnn",
     "locked": false,
     "schema_version": 3,
     "solution": true,
     "task": false
    }
   },
   "outputs": [],
   "source": [
    "class ConditionalPixelCNN(nn.Module):\n",
    "    def __init__(self, n_channels=64, kernel_size=7):\n",
    "        \"\"\"PixelCNN model for conditional generation.\"\"\"\n",
    "        # YOUR CODE HERE\n",
    "        super(ConditionalPixelCNN, self).__init__()\n",
    "        \n",
    "#         self.ll0 = nn.Linear(10, 1, bias = False)\n",
    "        self.maskedcnn = MaskedConv2d(1, n_channels, kernel_size, blind_center=True)\n",
    "        self.b_norm = nn.BatchNorm2d(n_channels)\n",
    "        self.ll1 = nn.Linear(10, n_channels, bias = False).to(device)\n",
    "        self.ll3 = nn.Linear(10, n_channels, bias = False).to(device)\n",
    "        self.ll2 = nn.Linear(10, n_channels, bias = False).to(device)\n",
    "        self.ll4 = nn.Linear(10, n_channels, bias = False).to(device)\n",
    "        self.ll5 = nn.Linear(10, n_channels, bias = False).to(device)\n",
    "        self.ll6 = nn.Linear(10, n_channels, bias = False).to(device)\n",
    "        self.ll7 = nn.Linear(10, n_channels, bias = False).to(device)\n",
    "        self.block1 = nn.Sequential(MaskedConv2d(n_channels, n_channels, kernel_size, blind_center = False),\n",
    "                                  nn.BatchNorm2d(n_channels),\n",
    "                                  nn.ReLU(True))\n",
    "        self.block2 = nn.Sequential(MaskedConv2d(n_channels, n_channels, kernel_size, blind_center = False),\n",
    "                                  nn.BatchNorm2d(n_channels),\n",
    "                                  nn.ReLU(True))\n",
    "        self.block3 = nn.Sequential(MaskedConv2d(n_channels, n_channels, kernel_size, blind_center = False),\n",
    "                                  nn.BatchNorm2d(n_channels),\n",
    "                                  nn.ReLU(True))\n",
    "        self.block4 = nn.Sequential(MaskedConv2d(n_channels, n_channels, kernel_size, blind_center = False),\n",
    "                                  nn.BatchNorm2d(n_channels),\n",
    "                                  nn.ReLU(True))\n",
    "        self.block5 = nn.Sequential(MaskedConv2d(n_channels, n_channels, kernel_size, blind_center = False),\n",
    "                                  nn.BatchNorm2d(n_channels),\n",
    "                                  nn.ReLU(True))\n",
    "        self.block6 = nn.Sequential(MaskedConv2d(n_channels, n_channels, kernel_size, blind_center = False),\n",
    "                                  nn.BatchNorm2d(n_channels),\n",
    "                                  nn.ReLU(True))\n",
    "        self.block7 = nn.Sequential(MaskedConv2d(n_channels, n_channels, kernel_size, blind_center = False),\n",
    "                                  nn.BatchNorm2d(n_channels),\n",
    "                                  nn.ReLU(True))\n",
    "        \n",
    "        self.conv_1x1 = nn.Conv2d(n_channels, 256, kernel_size = 1)\n",
    "#         raise NotImplementedError()\n",
    "        \n",
    "    def compute(self, x, wh):\n",
    "        wh = wh.T\n",
    "        wh = wh.reshape(*wh.size(), 1, 1)\n",
    "        x = x + wh\n",
    "        return x\n",
    "    def forward(self, x, labels):\n",
    "        \"\"\"Compute logits of the conditional probabilities p(x_i|x_1, ..., x_{i-1}) of the PixelCNN model.\n",
    "        \n",
    "        Args:\n",
    "          x of shape (batch_size, 1, 28, 28): Tensor of input images.\n",
    "          labels of shape (batch_size): Long tensor of the desired classes of the generated samples.\n",
    "        \n",
    "        Returns:\n",
    "          logits of shape (batch_size, 256, 28, 28): Tensor of logits of the conditional probabilities\n",
    "                                                      for each pixel.\n",
    "        \n",
    "        NB: Do not use softmax nonlinearity after the last layer.\n",
    "        \"\"\"\n",
    "        # YOUR CODE HERE\n",
    "        y = torch.eye(10).to(device)\n",
    "        one_hot = y[labels]\n",
    "        one_hot = one_hot.to(device)\n",
    "        \n",
    "        x = F.relu(self.b_norm(self.maskedcnn(x)))        \n",
    "        linear_temp = self.ll1(one_hot)\n",
    "        # wh = wh.T.reshape(*wh.size(), 1, 1)\n",
    "        # x = x + wh\n",
    "        x = self.compute(x, torch.mm(self.ll1.weight.data, (one_hot.T)))\n",
    "        x = self.block1(x)\n",
    "        \n",
    "        linear_temp = self.ll2(one_hot)\n",
    "        x = self.compute(x, torch.mm(self.ll2.weight.data, (one_hot.T)))\n",
    "        x = self.block2(x)\n",
    "\n",
    "        linear_temp = self.ll3(one_hot)\n",
    "        x = self.compute(x, torch.mm(self.ll3.weight.data, (one_hot.T)))\n",
    "        x = self.block3(x)\n",
    "\n",
    "        linear_temp = self.ll4(one_hot)\n",
    "        x = self.compute(x, torch.mm(self.ll4.weight.data, (one_hot.T)))\n",
    "        x = self.block4(x)\n",
    "        \n",
    "        linear_temp = self.ll5(one_hot)\n",
    "        x = self.compute(x, torch.mm(self.ll5.weight.data, (one_hot.T)))\n",
    "        x = self.block5(x)\n",
    "        \n",
    "        linear_temp = self.ll6(one_hot)\n",
    "        x = self.compute(x, torch.mm(self.ll6.weight.data, (one_hot.T)))\n",
    "        x = self.block6(x)\n",
    "        \n",
    "        linear_temp = self.ll7(one_hot)\n",
    "        x = self.compute(x, torch.mm(self.ll7.weight.data, (one_hot.T)))\n",
    "        x = self.block7(x)\n",
    "        \n",
    "        x = self.conv_1x1(x)\n",
    "        return x\n",
    "#         raise NotImplementedError()"
   ]
  },
  {
   "cell_type": "code",
   "execution_count": 25,
   "metadata": {
    "deletable": false,
    "editable": false,
    "nbgrader": {
     "cell_type": "code",
     "checksum": "b3441d674d78988985cc12ac6c1ecdf4",
     "grade": false,
     "grade_id": "cell-6ceba5f92fe75b4b",
     "locked": true,
     "schema_version": 3,
     "solution": false,
     "task": false
    }
   },
   "outputs": [
    {
     "name": "stdout",
     "output_type": "stream",
     "text": [
      "Success\n"
     ]
    }
   ],
   "source": [
    "def test_ConditionalPixelCNN_shapes():\n",
    "    net = ConditionalPixelCNN(n_channels=64, kernel_size=7)\n",
    "\n",
    "    batch_size = 2\n",
    "    x = torch.ones(batch_size, 1, 28, 28)\n",
    "    labels = torch.zeros(batch_size, dtype=torch.long)\n",
    "    y = net(x, labels)\n",
    "    assert y.shape == torch.Size([batch_size, 256, 28, 28]), f\"Bad y.shape: {y.shape}\"\n",
    "    print('Success')\n",
    "\n",
    "test_ConditionalPixelCNN_shapes()"
   ]
  },
  {
   "cell_type": "markdown",
   "metadata": {
    "deletable": false,
    "editable": false,
    "nbgrader": {
     "cell_type": "markdown",
     "checksum": "66e1852e3ede50cfb5aac454a9e66142",
     "grade": false,
     "grade_id": "cell-33f0e5430af65349",
     "locked": true,
     "schema_version": 3,
     "solution": false,
     "task": false
    }
   },
   "source": [
    "### Loss function for training conditional PixelCNN\n",
    "\n",
    "The `loss_fn()` function is identical to the `loss_fn()` from the PixelCNN notebook."
   ]
  },
  {
   "cell_type": "code",
   "execution_count": 26,
   "metadata": {
    "deletable": false,
    "nbgrader": {
     "cell_type": "code",
     "checksum": "4dbe63c296ea1dff830b1f7b1abac44b",
     "grade": false,
     "grade_id": "loss_fn",
     "locked": false,
     "schema_version": 3,
     "solution": true,
     "task": false
    }
   },
   "outputs": [],
   "source": [
    "def generate(net, labels, image_size=(28, 28), device='cpu'):\n",
    "    \"\"\"Generate samples using a trained conditional PixelCNN model.\n",
    "    Note: use as device labels.device.\n",
    "\n",
    "    Args:\n",
    "      net: Conditional PixelCNN model.\n",
    "      labels of shape (n_samples): Long tensor of the desired classes of the generated samples.\n",
    "      image_size: Tuple of image size (height, width).\n",
    "      device:     Device to use.\n",
    "    \n",
    "    Returns:\n",
    "      samples of shape (n_samples, 1, height, width): Generated samples.\n",
    "    \"\"\"\n",
    "    # YOUR CODE HERE\n",
    "    n_samples = labels.shape[0]\n",
    "    sample = torch.Tensor(n_samples, 1, image_size[0], image_size[1]).to(device)\n",
    "    sample.fill_(0)\n",
    "\n",
    "    for i in range(image_size[0]):\n",
    "        for j in range(image_size[0]):\n",
    "            net.eval()\n",
    "            out = net(sample, labels)\n",
    "            probs = F.softmax(out[:,:,i,j], dim = 1).data\n",
    "            # print(torch.multinomial(probs, 1).float())\n",
    "            sample[:,:,i,j] = torch.multinomial(probs, 1) / 255.0\n",
    "\n",
    "    return sample\n",
    "#     raise NotImplementedError()"
   ]
  },
  {
   "cell_type": "markdown",
   "metadata": {
    "deletable": false,
    "editable": false,
    "nbgrader": {
     "cell_type": "markdown",
     "checksum": "61130647ceae27ef8615e0975fe103ec",
     "grade": false,
     "grade_id": "cell-8e9892706a9d8986",
     "locked": true,
     "schema_version": 3,
     "solution": false,
     "task": false
    }
   },
   "source": [
    "### Generation procedure\n",
    "\n",
    "The `generate()` function is *almost* identical to the `generate()` function from the PixelCNN notebook. It additionally receives the labels of the desired classes so that they can be used in the forward computations of the conditional PixelCNN model."
   ]
  },
  {
   "cell_type": "code",
   "execution_count": 27,
   "metadata": {
    "deletable": false,
    "nbgrader": {
     "cell_type": "code",
     "checksum": "4294be8877eb96082e905c7e2be1f00d",
     "grade": false,
     "grade_id": "generate",
     "locked": false,
     "schema_version": 3,
     "solution": true,
     "task": false
    }
   },
   "outputs": [],
   "source": [
    "def generate(net, labels, image_size=(28, 28), device='cpu'):\n",
    "    \"\"\"Generate samples using a trained conditional PixelCNN model.\n",
    "    Note: use as device labels.device.\n",
    "\n",
    "    Args:\n",
    "      net: Conditional PixelCNN model.\n",
    "      labels of shape (n_samples): Long tensor of the desired classes of the generated samples.\n",
    "      image_size: Tuple of image size (height, width).\n",
    "      device:     Device to use.\n",
    "    \n",
    "    Returns:\n",
    "      samples of shape (n_samples, 1, height, width): Generated samples.\n",
    "    \"\"\"\n",
    "    # YOUR CODE HERE\n",
    "    sample = torch.Tensor(n_samples, 1, image_size[0], image_size[1]).to(device)\n",
    "    sample.fill_(0)\n",
    "\n",
    "    for i in range(image_size[0]):\n",
    "        for j in range(image_size[0]):\n",
    "            net.eval()\n",
    "            out = net(sample, labels)\n",
    "            probs = F.softmax(out[:,:,i,j], dim = 1).data\n",
    "            # print(torch.multinomial(probs, 1).float())\n",
    "            sample[:,:,i,j] = torch.multinomial(probs, 1) / 255.0\n",
    "\n",
    "    return sample\n",
    "#     raise NotImplementedError()"
   ]
  },
  {
   "cell_type": "markdown",
   "metadata": {
    "deletable": false,
    "editable": false,
    "nbgrader": {
     "cell_type": "markdown",
     "checksum": "c4d31b69403ec5cf3f60e234968e9230",
     "grade": false,
     "grade_id": "cell-85f2af389e3b1c61",
     "locked": true,
     "schema_version": 3,
     "solution": false,
     "task": false
    }
   },
   "source": [
    "# Train the model"
   ]
  },
  {
   "cell_type": "code",
   "execution_count": 28,
   "metadata": {
    "deletable": false,
    "editable": false,
    "nbgrader": {
     "cell_type": "code",
     "checksum": "bba666955a640819c110ed3d0a77e110",
     "grade": false,
     "grade_id": "cell-d0de5c83645b3502",
     "locked": true,
     "schema_version": 3,
     "solution": false,
     "task": false
    }
   },
   "outputs": [
    {
     "data": {
      "text/plain": [
       "ConditionalPixelCNN(\n",
       "  (maskedcnn): MaskedConv2d(\n",
       "    (conv): Conv2d(1, 64, kernel_size=(7, 7), stride=(1, 1), padding=(3, 3), bias=False)\n",
       "  )\n",
       "  (b_norm): BatchNorm2d(64, eps=1e-05, momentum=0.1, affine=True, track_running_stats=True)\n",
       "  (ll1): Linear(in_features=10, out_features=64, bias=False)\n",
       "  (ll3): Linear(in_features=10, out_features=64, bias=False)\n",
       "  (ll2): Linear(in_features=10, out_features=64, bias=False)\n",
       "  (ll4): Linear(in_features=10, out_features=64, bias=False)\n",
       "  (ll5): Linear(in_features=10, out_features=64, bias=False)\n",
       "  (ll6): Linear(in_features=10, out_features=64, bias=False)\n",
       "  (ll7): Linear(in_features=10, out_features=64, bias=False)\n",
       "  (block1): Sequential(\n",
       "    (0): MaskedConv2d(\n",
       "      (conv): Conv2d(64, 64, kernel_size=(7, 7), stride=(1, 1), padding=(3, 3), bias=False)\n",
       "    )\n",
       "    (1): BatchNorm2d(64, eps=1e-05, momentum=0.1, affine=True, track_running_stats=True)\n",
       "    (2): ReLU(inplace=True)\n",
       "  )\n",
       "  (block2): Sequential(\n",
       "    (0): MaskedConv2d(\n",
       "      (conv): Conv2d(64, 64, kernel_size=(7, 7), stride=(1, 1), padding=(3, 3), bias=False)\n",
       "    )\n",
       "    (1): BatchNorm2d(64, eps=1e-05, momentum=0.1, affine=True, track_running_stats=True)\n",
       "    (2): ReLU(inplace=True)\n",
       "  )\n",
       "  (block3): Sequential(\n",
       "    (0): MaskedConv2d(\n",
       "      (conv): Conv2d(64, 64, kernel_size=(7, 7), stride=(1, 1), padding=(3, 3), bias=False)\n",
       "    )\n",
       "    (1): BatchNorm2d(64, eps=1e-05, momentum=0.1, affine=True, track_running_stats=True)\n",
       "    (2): ReLU(inplace=True)\n",
       "  )\n",
       "  (block4): Sequential(\n",
       "    (0): MaskedConv2d(\n",
       "      (conv): Conv2d(64, 64, kernel_size=(7, 7), stride=(1, 1), padding=(3, 3), bias=False)\n",
       "    )\n",
       "    (1): BatchNorm2d(64, eps=1e-05, momentum=0.1, affine=True, track_running_stats=True)\n",
       "    (2): ReLU(inplace=True)\n",
       "  )\n",
       "  (block5): Sequential(\n",
       "    (0): MaskedConv2d(\n",
       "      (conv): Conv2d(64, 64, kernel_size=(7, 7), stride=(1, 1), padding=(3, 3), bias=False)\n",
       "    )\n",
       "    (1): BatchNorm2d(64, eps=1e-05, momentum=0.1, affine=True, track_running_stats=True)\n",
       "    (2): ReLU(inplace=True)\n",
       "  )\n",
       "  (block6): Sequential(\n",
       "    (0): MaskedConv2d(\n",
       "      (conv): Conv2d(64, 64, kernel_size=(7, 7), stride=(1, 1), padding=(3, 3), bias=False)\n",
       "    )\n",
       "    (1): BatchNorm2d(64, eps=1e-05, momentum=0.1, affine=True, track_running_stats=True)\n",
       "    (2): ReLU(inplace=True)\n",
       "  )\n",
       "  (block7): Sequential(\n",
       "    (0): MaskedConv2d(\n",
       "      (conv): Conv2d(64, 64, kernel_size=(7, 7), stride=(1, 1), padding=(3, 3), bias=False)\n",
       "    )\n",
       "    (1): BatchNorm2d(64, eps=1e-05, momentum=0.1, affine=True, track_running_stats=True)\n",
       "    (2): ReLU(inplace=True)\n",
       "  )\n",
       "  (conv_1x1): Conv2d(64, 256, kernel_size=(1, 1), stride=(1, 1))\n",
       ")"
      ]
     },
     "execution_count": 28,
     "metadata": {},
     "output_type": "execute_result"
    }
   ],
   "source": [
    "# Create network\n",
    "net = ConditionalPixelCNN(n_channels=64, kernel_size=7)\n",
    "net.to(device)"
   ]
  },
  {
   "cell_type": "code",
   "execution_count": 29,
   "metadata": {
    "deletable": false,
    "editable": false,
    "nbgrader": {
     "cell_type": "code",
     "checksum": "f78714ea6a59cef933fc7faa429b76e3",
     "grade": false,
     "grade_id": "cell-481bb5e1d1ab36b0",
     "locked": true,
     "schema_version": 3,
     "solution": false,
     "task": false
    }
   },
   "outputs": [],
   "source": [
    "# Plot generated samples for an untrained model\n",
    "# Note: generation on CPU may take a significant amount of time\n",
    "if not skip_training:\n",
    "    labels = torch.cat([torch.arange(10) for _ in range(12)], dim=0).to(device)\n",
    "    samples = generate(net, labels, device=device)\n",
    "    tools.plot_generated_samples(samples, ncol=10)"
   ]
  },
  {
   "cell_type": "markdown",
   "metadata": {
    "deletable": false,
    "editable": false,
    "nbgrader": {
     "cell_type": "markdown",
     "checksum": "846774ec9fe4295ef430127295832c96",
     "grade": false,
     "grade_id": "cell-cf49609428a403c1",
     "locked": true,
     "schema_version": 3,
     "solution": false,
     "task": false
    }
   },
   "source": [
    "### Training loop\n",
    "\n",
    "Implement the training loop in the cell below. The recommended hyperparameters:\n",
    "* Adam optimizer with learning rate 0.001\n",
    "* Number of epochs: 11.\n",
    "\n",
    "Hints:\n",
    "- The loss values are similar to the loss values in the PixelCNN notebook.\n",
    "- Please use this code to plot 120 generated samples after each epoch. This will allow you to track the training progress.\n",
    "```\n",
    "# Generate samples\n",
    "with torch.no_grad():\n",
    "    net.eval()\n",
    "    labels = torch.cat([torch.arange(10) for _ in range(12)], dim=0).to(device)\n",
    "    samples = generate(net, labels, device=device)\n",
    "    tools.plot_generated_samples(samples, ncol=10)\n",
    "```\n",
    "- The generated images should be of great quality but you should definitely recognize the desired classes of the digits.\n",
    "- **Do not forget to set the model into the training mode by `net.train()` before training.**"
   ]
  },
  {
   "cell_type": "code",
   "execution_count": 30,
   "metadata": {
    "deletable": false,
    "nbgrader": {
     "cell_type": "code",
     "checksum": "eee972e75dfc82217d977fa7bab26b97",
     "grade": false,
     "grade_id": "cond_pixel_cnn_training_loop",
     "locked": false,
     "schema_version": 3,
     "solution": true,
     "task": false
    }
   },
   "outputs": [],
   "source": [
    "import time\n",
    "if not skip_training:\n",
    "    # YOUR CODE HERE\n",
    "    time_start = time.time()\n",
    "    epochs = 11\n",
    "    optimizer = optim.Adam(net.parameters(), lr = 0.001)\n",
    "    for i in range(epochs):\n",
    "        net.train()\n",
    "        step = 0\n",
    "        loss_= 0\n",
    "        for images, labels in trainloader:\n",
    "            images = images.to(device)\n",
    "            \n",
    "            optimizer.zero_grad()\n",
    "            \n",
    "            output = net(images, labels)\n",
    "            \n",
    "            loss = loss_fn(output, images)\n",
    "            \n",
    "            loss.backward()\n",
    "            optimizer.step()\n",
    "\n",
    "            step += 1\n",
    "\n",
    "            if(step%100 == 0):\n",
    "                print('Epoch:'+str(i)+'\\t'+ str(step) +'\\t Iterations Complete \\t'+'loss: ', loss.item())\n",
    "        print('Epoch: '+str(i)+' Over!')\n",
    "        with torch.no_grad():\n",
    "          net.eval()\n",
    "          labels = torch.cat([torch.arange(10) for _ in range(12)], dim=0).to(device)\n",
    "          samples = generate(net, labels, device=device)\n",
    "          tools.plot_generated_samples(samples, ncol=10)\n",
    "    print('Training Finished! Time Taken: ', time.time()-time_start)\n",
    "#     raise NotImplementedError()"
   ]
  },
  {
   "cell_type": "code",
   "execution_count": 31,
   "metadata": {
    "deletable": false,
    "editable": false,
    "nbgrader": {
     "cell_type": "code",
     "checksum": "e425c9ed0879503db7963af897be4d9d",
     "grade": false,
     "grade_id": "cell-36010d91cd891307",
     "locked": true,
     "schema_version": 3,
     "solution": false,
     "task": false
    }
   },
   "outputs": [
    {
     "name": "stdout",
     "output_type": "stream",
     "text": [
      "Model loaded from 10_cond_pixelcnn.pth.\n"
     ]
    }
   ],
   "source": [
    "# Save the model to disk (the pth-files will be submitted automatically together with your notebook)\n",
    "if not skip_training:\n",
    "    tools.save_model(net, '10_cond_pixelcnn.pth')\n",
    "else:\n",
    "    net = ConditionalPixelCNN(n_channels=64, kernel_size=7)\n",
    "    tools.load_model(net, '10_cond_pixelcnn.pth', device)"
   ]
  },
  {
   "cell_type": "markdown",
   "metadata": {
    "deletable": false,
    "editable": false,
    "nbgrader": {
     "cell_type": "markdown",
     "checksum": "7b4afefc2e69fd11b922010e72d32b44",
     "grade": false,
     "grade_id": "cell-560767c43e2ad560",
     "locked": true,
     "schema_version": 3,
     "solution": false,
     "task": false
    }
   },
   "source": [
    "### Generate samples"
   ]
  },
  {
   "cell_type": "code",
   "execution_count": 32,
   "metadata": {
    "deletable": false,
    "editable": false,
    "nbgrader": {
     "cell_type": "code",
     "checksum": "150b38b82a2cb9b5b8934c5a3d33504a",
     "grade": false,
     "grade_id": "cell-fecbc19f46a95e57",
     "locked": true,
     "schema_version": 3,
     "solution": false,
     "task": false
    }
   },
   "outputs": [],
   "source": [
    "if not skip_training:\n",
    "    with torch.no_grad():\n",
    "        net.eval()\n",
    "        labels = torch.cat([torch.arange(10) for _ in range(12)], dim=0).to(device)\n",
    "        samples = generate(net, labels, device=device)\n",
    "        tools.plot_generated_samples(samples, ncol=10)"
   ]
  },
  {
   "cell_type": "code",
   "execution_count": 33,
   "metadata": {
    "deletable": false,
    "editable": false,
    "nbgrader": {
     "cell_type": "code",
     "checksum": "01c348dee30c8dfa2663214dcebe1676",
     "grade": true,
     "grade_id": "cell-f0fc9ef5c12c97fc",
     "locked": true,
     "points": 1,
     "schema_version": 3,
     "solution": false,
     "task": false
    }
   },
   "outputs": [],
   "source": [
    "# This cell tests the training loss of the trained model"
   ]
  },
  {
   "cell_type": "markdown",
   "metadata": {
    "deletable": false,
    "editable": false,
    "nbgrader": {
     "cell_type": "markdown",
     "checksum": "73b516a0e610ef1cf013f531a2641884",
     "grade": false,
     "grade_id": "cell-25eed043aff8f44a",
     "locked": true,
     "schema_version": 3,
     "solution": false,
     "task": false
    }
   },
   "source": [
    "<div class=\"alert alert-block alert-info\">\n",
    "<b>Conclusion</b>\n",
    "</div>\n",
    "\n",
    "In this notebook, we learned how to train a conditional PixelCNN model."
   ]
  }
 ],
 "metadata": {
  "kernelspec": {
   "display_name": "Python 3",
   "language": "python",
   "name": "python3"
  },
  "language_info": {
   "codemirror_mode": {
    "name": "ipython",
    "version": 3
   },
   "file_extension": ".py",
   "mimetype": "text/x-python",
   "name": "python",
   "nbconvert_exporter": "python",
   "pygments_lexer": "ipython3",
   "version": "3.7.3"
  },
  "varInspector": {
   "cols": {
    "lenName": 16,
    "lenType": 16,
    "lenVar": 40
   },
   "kernels_config": {
    "python": {
     "delete_cmd_postfix": "",
     "delete_cmd_prefix": "del ",
     "library": "var_list.py",
     "varRefreshCmd": "print(var_dic_list())"
    },
    "r": {
     "delete_cmd_postfix": ") ",
     "delete_cmd_prefix": "rm(",
     "library": "var_list.r",
     "varRefreshCmd": "cat(var_dic_list()) "
    }
   },
   "types_to_exclude": [
    "module",
    "function",
    "builtin_function_or_method",
    "instance",
    "_Feature"
   ],
   "window_display": false
  }
 },
 "nbformat": 4,
 "nbformat_minor": 2
}
